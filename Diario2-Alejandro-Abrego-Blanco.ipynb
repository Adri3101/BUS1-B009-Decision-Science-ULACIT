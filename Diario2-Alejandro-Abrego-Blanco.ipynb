{
 "cells": [
  {
   "cell_type": "markdown",
   "id": "0b2c6a28",
   "metadata": {},
   "source": [
    "# Diario de Aprendizaje 2"
   ]
  },
  {
   "cell_type": "code",
   "execution_count": 1,
   "id": "225e3cac",
   "metadata": {},
   "outputs": [
    {
     "name": "stdout",
     "output_type": "stream",
     "text": [
      "12867.963509103793\n"
     ]
    }
   ],
   "source": [
    "# 1) a) 1)\n",
    "\n",
    "import math\n",
    "\n",
    "\n",
    "r = math.pi * pow(8,4)\n",
    "print(r)"
   ]
  },
  {
   "cell_type": "code",
   "execution_count": 2,
   "id": "42d9a853",
   "metadata": {},
   "outputs": [
    {
     "name": "stdout",
     "output_type": "stream",
     "text": [
      "820.1428571428573\n"
     ]
    }
   ],
   "source": [
    "# 1) a) 2)\n",
    "\n",
    "import math\n",
    "\n",
    "\n",
    "r = abs(1342-1677*(9)/(7)-6)\n",
    "print(r)"
   ]
  },
  {
   "cell_type": "code",
   "execution_count": 3,
   "id": "d61cd75f",
   "metadata": {},
   "outputs": [
    {
     "name": "stdout",
     "output_type": "stream",
     "text": [
      "362880\n"
     ]
    }
   ],
   "source": [
    "# 1) a) 3)\n",
    "\n",
    "import math\n",
    "\n",
    "r= math.factorial(9)\n",
    "print(r)"
   ]
  },
  {
   "cell_type": "code",
   "execution_count": 4,
   "id": "ee32d56f",
   "metadata": {},
   "outputs": [
    {
     "name": "stdout",
     "output_type": "stream",
     "text": [
      "0.8450980400142567\n"
     ]
    }
   ],
   "source": [
    "# 1) a) 4)\n",
    "\n",
    "import math\n",
    "\n",
    "r = math.log(7,10)\n",
    "print(r)"
   ]
  },
  {
   "cell_type": "code",
   "execution_count": 5,
   "id": "4e93f2f6",
   "metadata": {},
   "outputs": [
    {
     "name": "stdout",
     "output_type": "stream",
     "text": [
      "1.7427372337331462\n"
     ]
    }
   ],
   "source": [
    "# 1) a) 5)\n",
    "\n",
    "import math\n",
    "\n",
    "\n",
    "r = math.e ** 0.555457\n",
    "print(r)"
   ]
  },
  {
   "cell_type": "code",
   "execution_count": 6,
   "id": "cf6e06a0",
   "metadata": {},
   "outputs": [
    {
     "name": "stdout",
     "output_type": "stream",
     "text": [
      "0.001526148012344848\n"
     ]
    }
   ],
   "source": [
    "# 1) b)\n",
    "\n",
    "import math\n",
    "\n",
    "\n",
    "y = math.pi\n",
    "z = 41\n",
    "\n",
    "r = (2 + y)/(7 + 2*z**2)\n",
    "print(r)"
   ]
  },
  {
   "cell_type": "code",
   "execution_count": 7,
   "id": "b9040aac",
   "metadata": {},
   "outputs": [
    {
     "name": "stdout",
     "output_type": "stream",
     "text": [
      "Lista X: [2, -6, 27, -8, -9, -21, 9, 5, 562, 3.141592653589793]\n",
      "Lista Y: [8, 9, -31, 18, -5, -18, 9, -22, 0, 9]\n",
      "Media de Y: -2.3\n",
      "Varianza de Y: 237.20999999999998\n",
      "Desviación estándar de Y: 15.40162329106903\n",
      "Ambas listas contienen lo siguiente: \n",
      "9\n",
      "La lista X invertida: [3.141592653589793, 562, 5, 9, -21, -9, -8, 27, -6, 2]\n"
     ]
    }
   ],
   "source": [
    "# 2) \n",
    "\n",
    "import math\n",
    "from math import sqrt\n",
    " \n",
    "def media(y):\n",
    "  s = 0\n",
    "  for i in y:\n",
    "    s += i\n",
    "  return s / float(len(y))\n",
    " \n",
    "def varianza(y):\n",
    "  s = 0\n",
    "  m = media(y)\n",
    "  for i in y:\n",
    "    s += (i - m) ** 2\n",
    "  return s / float(len(y))\n",
    " \n",
    "def desviacion_tipica(y):\n",
    "  return sqrt(varianza(y))\n",
    "\n",
    "x = [2,-6,27,-8,-9,-21,9,5,562,math.pi] \n",
    "y = [8,9,-31,18,-5,-18,9,-22,0,9]\n",
    "co = []\n",
    "\n",
    "print(\"Lista X: \" + str(x))\n",
    "print(\"Lista Y: \" + str(y))\n",
    "\n",
    "print(\"Media de Y: \" + str(media(y)))\n",
    "print(\"Varianza de Y: \" + str(varianza(y)))\n",
    "print(\"Desviación estándar de Y: \" + str(desviacion_tipica(y)))\n",
    " \n",
    "for item in x:\n",
    "  if item in y:\n",
    "    co.append(item)\n",
    " \n",
    "if len(co) > 0:\n",
    "  print (\"Ambas listas contienen lo siguiente: \")\n",
    "  for item in co: print (\"%s\" % item)\n",
    "else:\n",
    "  print (\"No existe ningun elemento igual en las listas.\")\n",
    "\n",
    "co.remove(item)\n",
    "\n",
    "x.reverse()\n",
    "print(\"La lista X invertida: \" + str(x))"
   ]
  },
  {
   "cell_type": "code",
   "execution_count": 8,
   "id": "7bb12561",
   "metadata": {},
   "outputs": [
    {
     "name": "stdout",
     "output_type": "stream",
     "text": [
      "Ingrese los datos de la persona 1\n",
      "Sexo: H\n",
      "Peso: 43\n",
      "Edad: 15\n",
      "Nivel Educativo: Lic\n",
      "Ingrese los datos de la persona 2\n",
      "Sexo: M\n",
      "Peso: 35\n",
      "Edad: 21\n",
      "Nivel Educativo: Bach\n",
      "Ingrese los datos de la persona 3\n",
      "Sexo: H\n",
      "Peso: 96\n",
      "Edad: 19\n",
      "Nivel Educativo: Bach\n",
      "Ingrese los datos de la persona 4\n",
      "Sexo: M\n",
      "Peso: 56\n",
      "Edad: 17\n",
      "Nivel Educativo: Bach\n",
      "Ingrese los datos de la persona 5\n",
      "Sexo: H\n",
      "Peso: 25\n",
      "Edad: 25\n",
      "Nivel Educativo: Dr\n",
      "Ingrese los datos de la persona 6\n",
      "Sexo: M\n",
      "Peso: 48\n",
      "Edad: 35\n",
      "Nivel Educativo: MSc\n",
      "\n",
      "\n",
      "Cuadro de referencia:\n",
      "\n",
      "Sexo | Peso | Edad | Nivel Educativo\n",
      "  H  |  43  |  15  |  Lic\n",
      "  M  |  35  |  21  |  Bach\n",
      "  H  |  96  |  19  |  Bach\n",
      "  M  |  56  |  17  |  Bach\n",
      "  H  |  25  |  25  |  Dr\n",
      "  M  |  48  |  35  |  MSc\n"
     ]
    }
   ],
   "source": [
    "# 3)\n",
    "\n",
    "usuarios = [[], [], [],[]]\n",
    "\n",
    "size = 6\n",
    "\n",
    "for i in range(size):\n",
    "    print(\"Ingrese los datos de la persona\", i + 1)\n",
    "    sexo = input(\"Sexo: \")\n",
    "    peso = input(\"Peso: \")\n",
    "    edad = input(\"Edad: \")\n",
    "    nedu = input(\"Nivel Educativo: \")\n",
    "\n",
    "    usuarios[0].append(sexo)\n",
    "\n",
    "    usuarios[1].append(peso)\n",
    "\n",
    "    usuarios[2].append(edad)\n",
    "\n",
    "    usuarios[3].append(nedu)\n",
    "\n",
    "print(\"\")\n",
    "print(\"\")\n",
    "print(\"Cuadro de referencia:\")\n",
    "print(\"\")\n",
    "print(\"Sexo | Peso | Edad | Nivel Educativo\")\n",
    "for i in range(size):\n",
    "    (i + 1)\n",
    "    print(\" \",usuarios[0][i],\" | \", usuarios[1][i],\" | \", usuarios[2][i],\" | \", usuarios[3][i])"
   ]
  },
  {
   "cell_type": "code",
   "execution_count": 9,
   "id": "06a0477c",
   "metadata": {},
   "outputs": [
    {
     "name": "stdout",
     "output_type": "stream",
     "text": [
      "25502500\n"
     ]
    }
   ],
   "source": [
    "# 4)\n",
    "\n",
    "# Instrucciones para sumar los números enteros elevados al cubo del 1 al 100\n",
    "# .-.-.-.-.-.-.-.-.-.-.-.-.-.-.-.-.-.-.-.-.-.-.-.-.-.-.-.-.-.-.-.-.-.-.-.-.-.-.-\n",
    "#\n",
    "# Creamos las variables que se vayan a ocupar\n",
    "n = 100\n",
    "suma = 0\n",
    "\n",
    "# Leemos los datos y especificamos la potencia al cubo en la operación\n",
    "for i in range(1, n + 1):\n",
    "    suma += i**3\n",
    "\n",
    "# Imprimimos la suma final\n",
    "print(suma)"
   ]
  },
  {
   "cell_type": "code",
   "execution_count": null,
   "id": "88d2ff85",
   "metadata": {},
   "outputs": [],
   "source": []
  }
 ],
 "metadata": {
  "kernelspec": {
   "display_name": "Python 3 (ipykernel)",
   "language": "python",
   "name": "python3"
  },
  "language_info": {
   "codemirror_mode": {
    "name": "ipython",
    "version": 3
   },
   "file_extension": ".py",
   "mimetype": "text/x-python",
   "name": "python",
   "nbconvert_exporter": "python",
   "pygments_lexer": "ipython3",
   "version": "3.9.7"
  }
 },
 "nbformat": 4,
 "nbformat_minor": 5
}
